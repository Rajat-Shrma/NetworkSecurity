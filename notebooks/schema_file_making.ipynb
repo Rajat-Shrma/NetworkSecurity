{
 "cells": [
  {
   "cell_type": "code",
   "execution_count": 1,
   "id": "8cf562aa",
   "metadata": {},
   "outputs": [],
   "source": [
    "import pandas as pd"
   ]
  },
  {
   "cell_type": "code",
   "execution_count": 5,
   "id": "a731dbe0",
   "metadata": {},
   "outputs": [],
   "source": [
    "df=pd.read_csv(r'C:\\Users\\hp\\OneDrive\\Desktop\\MY\\GitHubRS\\Network Security\\Network_Data\\phisingData.csv')"
   ]
  },
  {
   "cell_type": "code",
   "execution_count": 6,
   "id": "70b9dd00",
   "metadata": {},
   "outputs": [
    {
     "data": {
      "text/html": [
       "<div>\n",
       "<style scoped>\n",
       "    .dataframe tbody tr th:only-of-type {\n",
       "        vertical-align: middle;\n",
       "    }\n",
       "\n",
       "    .dataframe tbody tr th {\n",
       "        vertical-align: top;\n",
       "    }\n",
       "\n",
       "    .dataframe thead th {\n",
       "        text-align: right;\n",
       "    }\n",
       "</style>\n",
       "<table border=\"1\" class=\"dataframe\">\n",
       "  <thead>\n",
       "    <tr style=\"text-align: right;\">\n",
       "      <th></th>\n",
       "      <th>having_IP_Address</th>\n",
       "      <th>URL_Length</th>\n",
       "      <th>Shortining_Service</th>\n",
       "      <th>having_At_Symbol</th>\n",
       "      <th>double_slash_redirecting</th>\n",
       "      <th>Prefix_Suffix</th>\n",
       "      <th>having_Sub_Domain</th>\n",
       "      <th>SSLfinal_State</th>\n",
       "      <th>Domain_registeration_length</th>\n",
       "      <th>Favicon</th>\n",
       "      <th>...</th>\n",
       "      <th>popUpWidnow</th>\n",
       "      <th>Iframe</th>\n",
       "      <th>age_of_domain</th>\n",
       "      <th>DNSRecord</th>\n",
       "      <th>web_traffic</th>\n",
       "      <th>Page_Rank</th>\n",
       "      <th>Google_Index</th>\n",
       "      <th>Links_pointing_to_page</th>\n",
       "      <th>Statistical_report</th>\n",
       "      <th>Result</th>\n",
       "    </tr>\n",
       "  </thead>\n",
       "  <tbody>\n",
       "    <tr>\n",
       "      <th>0</th>\n",
       "      <td>-1</td>\n",
       "      <td>1</td>\n",
       "      <td>1</td>\n",
       "      <td>1</td>\n",
       "      <td>-1</td>\n",
       "      <td>-1</td>\n",
       "      <td>-1</td>\n",
       "      <td>-1</td>\n",
       "      <td>-1</td>\n",
       "      <td>1</td>\n",
       "      <td>...</td>\n",
       "      <td>1</td>\n",
       "      <td>1</td>\n",
       "      <td>-1</td>\n",
       "      <td>-1</td>\n",
       "      <td>-1</td>\n",
       "      <td>-1</td>\n",
       "      <td>1</td>\n",
       "      <td>1</td>\n",
       "      <td>-1</td>\n",
       "      <td>-1</td>\n",
       "    </tr>\n",
       "    <tr>\n",
       "      <th>1</th>\n",
       "      <td>1</td>\n",
       "      <td>1</td>\n",
       "      <td>1</td>\n",
       "      <td>1</td>\n",
       "      <td>1</td>\n",
       "      <td>-1</td>\n",
       "      <td>0</td>\n",
       "      <td>1</td>\n",
       "      <td>-1</td>\n",
       "      <td>1</td>\n",
       "      <td>...</td>\n",
       "      <td>1</td>\n",
       "      <td>1</td>\n",
       "      <td>-1</td>\n",
       "      <td>-1</td>\n",
       "      <td>0</td>\n",
       "      <td>-1</td>\n",
       "      <td>1</td>\n",
       "      <td>1</td>\n",
       "      <td>1</td>\n",
       "      <td>-1</td>\n",
       "    </tr>\n",
       "    <tr>\n",
       "      <th>2</th>\n",
       "      <td>1</td>\n",
       "      <td>0</td>\n",
       "      <td>1</td>\n",
       "      <td>1</td>\n",
       "      <td>1</td>\n",
       "      <td>-1</td>\n",
       "      <td>-1</td>\n",
       "      <td>-1</td>\n",
       "      <td>-1</td>\n",
       "      <td>1</td>\n",
       "      <td>...</td>\n",
       "      <td>1</td>\n",
       "      <td>1</td>\n",
       "      <td>1</td>\n",
       "      <td>-1</td>\n",
       "      <td>1</td>\n",
       "      <td>-1</td>\n",
       "      <td>1</td>\n",
       "      <td>0</td>\n",
       "      <td>-1</td>\n",
       "      <td>-1</td>\n",
       "    </tr>\n",
       "    <tr>\n",
       "      <th>3</th>\n",
       "      <td>1</td>\n",
       "      <td>0</td>\n",
       "      <td>1</td>\n",
       "      <td>1</td>\n",
       "      <td>1</td>\n",
       "      <td>-1</td>\n",
       "      <td>-1</td>\n",
       "      <td>-1</td>\n",
       "      <td>1</td>\n",
       "      <td>1</td>\n",
       "      <td>...</td>\n",
       "      <td>1</td>\n",
       "      <td>1</td>\n",
       "      <td>-1</td>\n",
       "      <td>-1</td>\n",
       "      <td>1</td>\n",
       "      <td>-1</td>\n",
       "      <td>1</td>\n",
       "      <td>-1</td>\n",
       "      <td>1</td>\n",
       "      <td>-1</td>\n",
       "    </tr>\n",
       "    <tr>\n",
       "      <th>4</th>\n",
       "      <td>1</td>\n",
       "      <td>0</td>\n",
       "      <td>-1</td>\n",
       "      <td>1</td>\n",
       "      <td>1</td>\n",
       "      <td>-1</td>\n",
       "      <td>1</td>\n",
       "      <td>1</td>\n",
       "      <td>-1</td>\n",
       "      <td>1</td>\n",
       "      <td>...</td>\n",
       "      <td>-1</td>\n",
       "      <td>1</td>\n",
       "      <td>-1</td>\n",
       "      <td>-1</td>\n",
       "      <td>0</td>\n",
       "      <td>-1</td>\n",
       "      <td>1</td>\n",
       "      <td>1</td>\n",
       "      <td>1</td>\n",
       "      <td>1</td>\n",
       "    </tr>\n",
       "  </tbody>\n",
       "</table>\n",
       "<p>5 rows × 31 columns</p>\n",
       "</div>"
      ],
      "text/plain": [
       "   having_IP_Address  URL_Length  Shortining_Service  having_At_Symbol  \\\n",
       "0                 -1           1                   1                 1   \n",
       "1                  1           1                   1                 1   \n",
       "2                  1           0                   1                 1   \n",
       "3                  1           0                   1                 1   \n",
       "4                  1           0                  -1                 1   \n",
       "\n",
       "   double_slash_redirecting  Prefix_Suffix  having_Sub_Domain  SSLfinal_State  \\\n",
       "0                        -1             -1                 -1              -1   \n",
       "1                         1             -1                  0               1   \n",
       "2                         1             -1                 -1              -1   \n",
       "3                         1             -1                 -1              -1   \n",
       "4                         1             -1                  1               1   \n",
       "\n",
       "   Domain_registeration_length  Favicon  ...  popUpWidnow  Iframe  \\\n",
       "0                           -1        1  ...            1       1   \n",
       "1                           -1        1  ...            1       1   \n",
       "2                           -1        1  ...            1       1   \n",
       "3                            1        1  ...            1       1   \n",
       "4                           -1        1  ...           -1       1   \n",
       "\n",
       "   age_of_domain  DNSRecord  web_traffic  Page_Rank  Google_Index  \\\n",
       "0             -1         -1           -1         -1             1   \n",
       "1             -1         -1            0         -1             1   \n",
       "2              1         -1            1         -1             1   \n",
       "3             -1         -1            1         -1             1   \n",
       "4             -1         -1            0         -1             1   \n",
       "\n",
       "   Links_pointing_to_page  Statistical_report  Result  \n",
       "0                       1                  -1      -1  \n",
       "1                       1                   1      -1  \n",
       "2                       0                  -1      -1  \n",
       "3                      -1                   1      -1  \n",
       "4                       1                   1       1  \n",
       "\n",
       "[5 rows x 31 columns]"
      ]
     },
     "execution_count": 6,
     "metadata": {},
     "output_type": "execute_result"
    }
   ],
   "source": [
    "df.head()"
   ]
  },
  {
   "cell_type": "code",
   "execution_count": 7,
   "id": "5773688b",
   "metadata": {},
   "outputs": [],
   "source": [
    "with open(r'C:\\Users\\hp\\OneDrive\\Desktop\\MY\\GitHubRS\\Network Security\\data_schema\\schema.yaml','w') as f:\n",
    "    f.write('columns:\\n')\n",
    "    for column_name in df.columns:\n",
    "        line=f' - {column_name}: {df[column_name].dtype}\\n'\n",
    "        f.write(line)"
   ]
  },
  {
   "cell_type": "code",
   "execution_count": 9,
   "id": "72c84cef",
   "metadata": {},
   "outputs": [],
   "source": [
    "with open(r'C:\\Users\\hp\\OneDrive\\Desktop\\MY\\GitHubRS\\Network Security\\data_schema\\schema.yaml','a') as f:\n",
    "    f.write('numerical_columns:\\n')\n",
    "    for column_name in df.columns:\n",
    "        if 'int' in str(df[column_name].dtype):\n",
    "            line=f' - {column_name}\\n'\n",
    "            f.write(line)"
   ]
  },
  {
   "cell_type": "code",
   "execution_count": 15,
   "id": "3383dd1c",
   "metadata": {},
   "outputs": [],
   "source": [
    "from networksecurity.utils.main_utils.utils import read_yaml_file\n",
    "\n",
    "schema_file=read_yaml_file(r'C:\\Users\\hp\\OneDrive\\Desktop\\MY\\GitHubRS\\Network Security\\data_schema\\schema.yaml')"
   ]
  },
  {
   "cell_type": "code",
   "execution_count": 22,
   "id": "8c7b3d36",
   "metadata": {},
   "outputs": [
    {
     "data": {
      "text/plain": [
       "[{'having_IP_Address': 'int64'},\n",
       " {'URL_Length': 'int64'},\n",
       " {'Shortining_Service': 'int64'},\n",
       " {'having_At_Symbol': 'int64'},\n",
       " {'double_slash_redirecting': 'int64'},\n",
       " {'Prefix_Suffix': 'int64'},\n",
       " {'having_Sub_Domain': 'int64'},\n",
       " {'SSLfinal_State': 'int64'},\n",
       " {'Domain_registeration_length': 'int64'},\n",
       " {'Favicon': 'int64'},\n",
       " {'port': 'int64'},\n",
       " {'HTTPS_token': 'int64'},\n",
       " {'Request_URL': 'int64'},\n",
       " {'URL_of_Anchor': 'int64'},\n",
       " {'Links_in_tags': 'int64'},\n",
       " {'SFH': 'int64'},\n",
       " {'Submitting_to_email': 'int64'},\n",
       " {'Abnormal_URL': 'int64'},\n",
       " {'Redirect': 'int64'},\n",
       " {'on_mouseover': 'int64'},\n",
       " {'RightClick': 'int64'},\n",
       " {'popUpWidnow': 'int64'},\n",
       " {'Iframe': 'int64'},\n",
       " {'age_of_domain': 'int64'},\n",
       " {'DNSRecord': 'int64'},\n",
       " {'web_traffic': 'int64'},\n",
       " {'Page_Rank': 'int64'},\n",
       " {'Google_Index': 'int64'},\n",
       " {'Links_pointing_to_page': 'int64'},\n",
       " {'Statistical_report': 'int64'},\n",
       " {'Result': 'int64'}]"
      ]
     },
     "execution_count": 22,
     "metadata": {},
     "output_type": "execute_result"
    }
   ],
   "source": [
    "schema_file['columns']"
   ]
  },
  {
   "cell_type": "code",
   "execution_count": 21,
   "id": "22ca1f03",
   "metadata": {},
   "outputs": [
    {
     "data": {
      "text/plain": [
       "dtype('int64')"
      ]
     },
     "execution_count": 21,
     "metadata": {},
     "output_type": "execute_result"
    }
   ],
   "source": [
    "d=df['Page_Rank'].dtype\n",
    "d"
   ]
  },
  {
   "cell_type": "code",
   "execution_count": 28,
   "id": "766bd39a",
   "metadata": {},
   "outputs": [
    {
     "data": {
      "text/plain": [
       "dict_items([('having_IP_Address', 'int64')])"
      ]
     },
     "execution_count": 28,
     "metadata": {},
     "output_type": "execute_result"
    }
   ],
   "source": [
    "schema_file['columns'][0].items()"
   ]
  },
  {
   "cell_type": "code",
   "execution_count": 33,
   "id": "532de790",
   "metadata": {},
   "outputs": [
    {
     "name": "stdout",
     "output_type": "stream",
     "text": [
      "dict_keys(['having_IP_Address']):dict_values(['int64'])\n",
      "\n",
      "dict_keys(['URL_Length']):dict_values(['int64'])\n",
      "\n",
      "dict_keys(['Shortining_Service']):dict_values(['int64'])\n",
      "\n",
      "dict_keys(['having_At_Symbol']):dict_values(['int64'])\n",
      "\n",
      "dict_keys(['double_slash_redirecting']):dict_values(['int64'])\n",
      "\n",
      "dict_keys(['Prefix_Suffix']):dict_values(['int64'])\n",
      "\n",
      "dict_keys(['having_Sub_Domain']):dict_values(['int64'])\n",
      "\n",
      "dict_keys(['SSLfinal_State']):dict_values(['int64'])\n",
      "\n",
      "dict_keys(['Domain_registeration_length']):dict_values(['int64'])\n",
      "\n",
      "dict_keys(['Favicon']):dict_values(['int64'])\n",
      "\n",
      "dict_keys(['port']):dict_values(['int64'])\n",
      "\n",
      "dict_keys(['HTTPS_token']):dict_values(['int64'])\n",
      "\n",
      "dict_keys(['Request_URL']):dict_values(['int64'])\n",
      "\n",
      "dict_keys(['URL_of_Anchor']):dict_values(['int64'])\n",
      "\n",
      "dict_keys(['Links_in_tags']):dict_values(['int64'])\n",
      "\n",
      "dict_keys(['SFH']):dict_values(['int64'])\n",
      "\n",
      "dict_keys(['Submitting_to_email']):dict_values(['int64'])\n",
      "\n",
      "dict_keys(['Abnormal_URL']):dict_values(['int64'])\n",
      "\n",
      "dict_keys(['Redirect']):dict_values(['int64'])\n",
      "\n",
      "dict_keys(['on_mouseover']):dict_values(['int64'])\n",
      "\n",
      "dict_keys(['RightClick']):dict_values(['int64'])\n",
      "\n",
      "dict_keys(['popUpWidnow']):dict_values(['int64'])\n",
      "\n",
      "dict_keys(['Iframe']):dict_values(['int64'])\n",
      "\n",
      "dict_keys(['age_of_domain']):dict_values(['int64'])\n",
      "\n",
      "dict_keys(['DNSRecord']):dict_values(['int64'])\n",
      "\n",
      "dict_keys(['web_traffic']):dict_values(['int64'])\n",
      "\n",
      "dict_keys(['Page_Rank']):dict_values(['int64'])\n",
      "\n",
      "dict_keys(['Google_Index']):dict_values(['int64'])\n",
      "\n",
      "dict_keys(['Links_pointing_to_page']):dict_values(['int64'])\n",
      "\n",
      "dict_keys(['Statistical_report']):dict_values(['int64'])\n",
      "\n",
      "dict_keys(['Result']):dict_values(['int64'])\n",
      "\n"
     ]
    }
   ],
   "source": [
    "for column_details in schema_file['columns']:\n",
    "    print(f'{str(column_details.keys())}:{str(column_details.values())}\\n')"
   ]
  },
  {
   "cell_type": "code",
   "execution_count": null,
   "id": "32b99b1b",
   "metadata": {},
   "outputs": [
    {
     "ename": "KeyError",
     "evalue": "0",
     "output_type": "error",
     "traceback": [
      "\u001b[1;31m---------------------------------------------------------------------------\u001b[0m",
      "\u001b[1;31mKeyError\u001b[0m                                  Traceback (most recent call last)",
      "Cell \u001b[1;32mIn[35], line 1\u001b[0m\n\u001b[1;32m----> 1\u001b[0m \u001b[43m{\u001b[49m\u001b[38;5;124;43m'\u001b[39;49m\u001b[38;5;124;43mhaving_IP_Address\u001b[39;49m\u001b[38;5;124;43m'\u001b[39;49m\u001b[43m:\u001b[49m\u001b[43m \u001b[49m\u001b[38;5;124;43m'\u001b[39;49m\u001b[38;5;124;43mint64\u001b[39;49m\u001b[38;5;124;43m'\u001b[39;49m\u001b[43m}\u001b[49m\u001b[43m[\u001b[49m\u001b[38;5;241;43m0\u001b[39;49m\u001b[43m]\u001b[49m\n",
      "\u001b[1;31mKeyError\u001b[0m: 0"
     ]
    }
   ],
   "source": [
    "{'having_IP_Address': 'int64'}.keys()"
   ]
  },
  {
   "cell_type": "code",
   "execution_count": null,
   "id": "18fed7fd",
   "metadata": {},
   "outputs": [],
   "source": []
  }
 ],
 "metadata": {
  "kernelspec": {
   "display_name": "Python 3",
   "language": "python",
   "name": "python3"
  },
  "language_info": {
   "codemirror_mode": {
    "name": "ipython",
    "version": 3
   },
   "file_extension": ".py",
   "mimetype": "text/x-python",
   "name": "python",
   "nbconvert_exporter": "python",
   "pygments_lexer": "ipython3",
   "version": "3.10.0"
  }
 },
 "nbformat": 4,
 "nbformat_minor": 5
}
